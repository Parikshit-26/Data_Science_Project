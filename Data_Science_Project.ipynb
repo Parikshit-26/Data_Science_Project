{
  "nbformat": 4,
  "nbformat_minor": 0,
  "metadata": {
    "colab": {
      "provenance": [],
      "authorship_tag": "ABX9TyOD5vCqWzmXVSskwceIx07n",
      "include_colab_link": true
    },
    "kernelspec": {
      "name": "python3",
      "display_name": "Python 3"
    },
    "language_info": {
      "name": "python"
    }
  },
  "cells": [
    {
      "cell_type": "markdown",
      "metadata": {
        "id": "view-in-github",
        "colab_type": "text"
      },
      "source": [
        "<a href=\"https://colab.research.google.com/github/Parikshit-26/Data_Science_Project/blob/main/Data_Science_Project.ipynb\" target=\"_parent\"><img src=\"https://colab.research.google.com/assets/colab-badge.svg\" alt=\"Open In Colab\"/></a>"
      ]
    },
    {
      "cell_type": "code",
      "execution_count": null,
      "metadata": {
        "colab": {
          "base_uri": "https://localhost:8080/"
        },
        "id": "fOzBaqmu3jI3",
        "outputId": "e68e8dca-54c9-40c3-abd0-7f684dbc2ff4"
      },
      "outputs": [
        {
          "output_type": "stream",
          "name": "stdout",
          "text": [
            "Initial DataFrame Head:\n",
            "  City Name     Year  Municipal Revenue Amount_inCrore  \\\n",
            "0      Pune  2019-20                           4446.68   \n",
            "1      Pune  2018-19                           4391.06   \n",
            "2      Pune  2017-18                           4306.59   \n",
            "3      Pune  2016-17                           3728.48   \n",
            "4      Pune  2015-16                           4037.33   \n",
            "\n",
            "   Municipal Expenditure\\nAmount_inCrore  Surplus/Deficit_inCrore  \n",
            "0                                4461.51                   -14.83  \n",
            "1                                4551.44                  -160.38  \n",
            "2                                3902.84                   403.75  \n",
            "3                                4089.31                  -360.83  \n",
            "4                                3484.43                   552.90  \n",
            "\n",
            "Initial DataFrame Info:\n",
            "<class 'pandas.core.frame.DataFrame'>\n",
            "RangeIndex: 6 entries, 0 to 5\n",
            "Data columns (total 5 columns):\n",
            " #   Column                                Non-Null Count  Dtype  \n",
            "---  ------                                --------------  -----  \n",
            " 0   City Name                             6 non-null      object \n",
            " 1   Year                                  6 non-null      object \n",
            " 2   Municipal Revenue Amount_inCrore      6 non-null      float64\n",
            " 3   Municipal Expenditure\n",
            "Amount_inCrore  6 non-null      float64\n",
            " 4   Surplus/Deficit_inCrore               6 non-null      float64\n",
            "dtypes: float64(3), object(2)\n",
            "memory usage: 372.0+ bytes\n"
          ]
        }
      ],
      "source": [
        "import pandas as pd\n",
        "\n",
        "# Load the dataset\n",
        "file_name = \"Pune-D49-Financial_Health_2014-20.csv\"\n",
        "df = pd.read_csv(\"/content/Pune-D49-Financial_Health_2014-20.csv\")\n",
        "\n",
        "# Display initial information\n",
        "print(\"Initial DataFrame Head:\")\n",
        "print(df.head())\n",
        "\n",
        "print(\"\\nInitial DataFrame Info:\")\n",
        "df.info()"
      ]
    },
    {
      "cell_type": "code",
      "source": [
        "# Clean column names\n",
        "df.columns = [\n",
        "    'City_Name',\n",
        "    'Year',\n",
        "    'Revenue_Crore',\n",
        "    'Expenditure_Crore',\n",
        "    'Surplus_Deficit_Crore'\n",
        "]\n",
        "\n",
        "# Ensure the year column is treated as ordered categorical for correct plotting order\n",
        "# We will use the middle year for sorting/labeling if needed, but for line plots,\n",
        "# using the existing string order will work fine given the format 'YYYY-YY'.\n",
        "df['Year'] = df['Year'].astype(str)\n",
        "\n",
        "print(\"Cleaned DataFrame Head:\")\n",
        "print(df.head())\n",
        "\n",
        "# --- Plot 1: Line Plot (Time Series) ---\n",
        "import matplotlib.pyplot as plt\n",
        "import numpy as np\n",
        "\n",
        "plt.figure(figsize=(10, 6))\n",
        "\n",
        "# Plot Revenue and Expenditure\n",
        "plt.plot(df['Year'], df['Revenue_Crore'], marker='o', label='Revenue')\n",
        "plt.plot(df['Year'], df['Expenditure_Crore'], marker='s', label='Expenditure')\n",
        "# Plot Surplus/Deficit\n",
        "plt.bar(df['Year'], df['Surplus_Deficit_Crore'], color=np.where(df['Surplus_Deficit_Crore'] >= 0, 'g', 'r'), alpha=0.5, label='Surplus (Green) / Deficit (Red)')\n",
        "\n",
        "plt.title('Pune Municipal Financial Health (2014-15 to 2019-20)')\n",
        "plt.xlabel('Fiscal Year')\n",
        "plt.ylabel('Amount (₹ in Crore)')\n",
        "plt.grid(axis='y', linestyle='--', alpha=0.7)\n",
        "plt.legend()\n",
        "plt.xticks(rotation=45, ha='right')\n",
        "plt.tight_layout()\n",
        "plt.savefig(\"financial_time_series_line_bar_plot.png\")\n",
        "plt.close()\n",
        "\n",
        "\n",
        "# --- Plot 2: Scatter Plot (Revenue vs. Expenditure) ---\n",
        "plt.figure(figsize=(7, 7))\n",
        "plt.scatter(df['Revenue_Crore'], df['Expenditure_Crore'], c=df['Surplus_Deficit_Crore'], cmap='RdYlGn', s=200, alpha=0.8)\n",
        "\n",
        "# Add a reference line (Y=X) where Revenue equals Expenditure (zero surplus/deficit)\n",
        "min_val = min(df[['Revenue_Crore', 'Expenditure_Crore']].min()) - 100\n",
        "max_val = max(df[['Revenue_Crore', 'Expenditure_Crore']].max()) + 100\n",
        "plt.plot([min_val, max_val], [min_val, max_val], 'k--', alpha=0.5, label='Break-Even Line (Revenue = Expenditure)')\n",
        "\n",
        "plt.colorbar(label='Surplus/Deficit (₹ in Crore)')\n",
        "plt.title('Revenue vs. Expenditure Colored by Surplus/Deficit')\n",
        "plt.xlabel('Revenue (₹ in Crore)')\n",
        "plt.ylabel('Expenditure (₹ in Crore)')\n",
        "plt.legend(loc='lower right')\n",
        "plt.grid(linestyle='--', alpha=0.6)\n",
        "plt.tight_layout()\n",
        "plt.savefig(\"revenue_vs_expenditure_scatter_plot.png\")\n",
        "plt.close()\n",
        "\n",
        "\n",
        "# --- Plot 3: Box Plot (Surplus/Deficit Distribution) ---\n",
        "plt.figure(figsize=(4, 6))\n",
        "plt.boxplot(df['Surplus_Deficit_Crore'])\n",
        "plt.title('Distribution of Annual Surplus/Deficit')\n",
        "plt.ylabel('Surplus/Deficit (₹ in Crore)')\n",
        "plt.xticks([1], ['Pune']) # Label the single box plot\n",
        "plt.grid(axis='y', linestyle='--', alpha=0.7)\n",
        "plt.tight_layout()\n",
        "plt.savefig(\"surplus_deficit_box_plot.png\")\n",
        "plt.close()"
      ],
      "metadata": {
        "id": "EETYzKzU8nel",
        "colab": {
          "base_uri": "https://localhost:8080/"
        },
        "outputId": "dab43d15-7e29-4f70-bf2f-caa1f2551546"
      },
      "execution_count": null,
      "outputs": [
        {
          "output_type": "stream",
          "name": "stdout",
          "text": [
            "Cleaned DataFrame Head:\n",
            "  City_Name     Year  Revenue_Crore  Expenditure_Crore  Surplus_Deficit_Crore\n",
            "0      Pune  2019-20        4446.68            4461.51                 -14.83\n",
            "1      Pune  2018-19        4391.06            4551.44                -160.38\n",
            "2      Pune  2017-18        4306.59            3902.84                 403.75\n",
            "3      Pune  2016-17        3728.48            4089.31                -360.83\n",
            "4      Pune  2015-16        4037.33            3484.43                 552.90\n"
          ]
        }
      ]
    }
  ]
}